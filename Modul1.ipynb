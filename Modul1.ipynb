{
 "cells": [
  {
   "cell_type": "code",
   "execution_count": 5,
   "id": "80af3c3d",
   "metadata": {},
   "outputs": [
    {
     "name": "stdout",
     "output_type": "stream",
     "text": [
      "Note: you may need to restart the kernel to use updated packages.\n"
     ]
    }
   ],
   "source": [
    "pip install transformers torch tiktoken datasets matplotlib -Uq"
   ]
  },
  {
   "cell_type": "markdown",
   "id": "33b1e52b",
   "metadata": {},
   "source": [
    "![https://miro.medium.com/v2/resize:fit:850/1*nhwzi5yDdkI70uhx2KH1Dw.png](https://miro.medium.com/v2/resize:fit:850/1*nhwzi5yDdkI70uhx2KH1Dw.png)"
   ]
  }
 ],
 "metadata": {
  "kernelspec": {
   "display_name": "Python 3",
   "language": "python",
   "name": "python3"
  },
  "language_info": {
   "codemirror_mode": {
    "name": "ipython",
    "version": 3
   },
   "file_extension": ".py",
   "mimetype": "text/x-python",
   "name": "python",
   "nbconvert_exporter": "python",
   "pygments_lexer": "ipython3",
   "version": "3.13.5"
  }
 },
 "nbformat": 4,
 "nbformat_minor": 5
}
