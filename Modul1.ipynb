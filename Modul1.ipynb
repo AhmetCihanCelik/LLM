{
 "cells": [
  {
   "cell_type": "code",
   "execution_count": 5,
   "id": "80af3c3d",
   "metadata": {},
   "outputs": [
    {
     "name": "stdout",
     "output_type": "stream",
     "text": [
      "Note: you may need to restart the kernel to use updated packages.\n"
     ]
    }
   ],
   "source": [
    "pip install transformers torch tiktoken datasets matplotlib -Uq"
   ]
  },
  {
   "cell_type": "markdown",
   "id": "33b1e52b",
   "metadata": {},
   "source": [
    "![https://miro.medium.com/v2/resize:fit:850/1*nhwzi5yDdkI70uhx2KH1Dw.png](https://miro.medium.com/v2/resize:fit:850/1*nhwzi5yDdkI70uhx2KH1Dw.png)"
   ]
  },
  {
   "cell_type": "code",
   "execution_count": 12,
   "id": "8c4b548b",
   "metadata": {},
   "outputs": [],
   "source": [
    "text1=\"the dog chased the cat\"\n",
    "text2=\"the cat chased the dog\"      \n",
    "\n",
    "text=\"the capital of france is\""
   ]
  },
  {
   "cell_type": "code",
   "execution_count": null,
   "id": "9e51081c",
   "metadata": {},
   "outputs": [
    {
     "name": "stdout",
     "output_type": "stream",
     "text": [
      "['the', 'dog', 'chased', 'the', 'cat']\n"
     ]
    }
   ],
   "source": [
    "def tokenize(text):\n",
    "    return text.split()\n",
    "\n",
    "print(tokenize(\"the dog chased the cat\"))"
   ]
  },
  {
   "cell_type": "code",
   "execution_count": 35,
   "id": "ac4f8f3c",
   "metadata": {},
   "outputs": [],
   "source": [
    "#Tokenize\n",
    "vocab={\n",
    "    \"the\":0,\n",
    "    \"dog\":1,\n",
    "    \"cat\":2,\n",
    "    \"chased\":3,\n",
    "    \"is\":4,\n",
    "    \"paris\":5,\n",
    "    \"france\":6,\n",
    "    \"capital\":7,\n",
    "    \"unknown\":8,\n",
    "}\n",
    "def tokenize2(text):\n",
    "    parts=text.split()\n",
    "    ids=[]\n",
    "    for part in parts:\n",
    "       if part in vocab:\n",
    "        value=vocab[part]\n",
    "       else:\n",
    "        value=vocab[\"unknown\"]\n",
    "       ids.append(value)\n",
    "    return ids\n",
    "\n",
    "token_ids=tokenize2(text1) \n",
    "\n",
    "\n",
    "\n"
   ]
  },
  {
   "cell_type": "code",
   "execution_count": 39,
   "id": "f5c9b8e8",
   "metadata": {},
   "outputs": [],
   "source": [
    "reverse_vocab={id:part for part, id in vocab.items()}"
   ]
  },
  {
   "cell_type": "code",
   "execution_count": 41,
   "id": "36508cb8",
   "metadata": {},
   "outputs": [
    {
     "data": {
      "text/plain": [
       "'the dog chased the cat'"
      ]
     },
     "execution_count": 41,
     "metadata": {},
     "output_type": "execute_result"
    }
   ],
   "source": [
    "#Detokenize\n",
    "def detokenize(ids):\n",
    "    parts=[]\n",
    "    for id in ids:\n",
    "        parts.append(reverse_vocab[id])\n",
    "    return \" \".join(parts)\n",
    "\n",
    "detokenize(token_ids)\n",
    "    \n",
    "\n",
    "\n",
    "\n",
    "\n",
    "\n",
    "\n",
    "\n"
   ]
  }
 ],
 "metadata": {
  "kernelspec": {
   "display_name": "Python 3",
   "language": "python",
   "name": "python3"
  },
  "language_info": {
   "codemirror_mode": {
    "name": "ipython",
    "version": 3
   },
   "file_extension": ".py",
   "mimetype": "text/x-python",
   "name": "python",
   "nbconvert_exporter": "python",
   "pygments_lexer": "ipython3",
   "version": "3.13.5"
  }
 },
 "nbformat": 4,
 "nbformat_minor": 5
}
